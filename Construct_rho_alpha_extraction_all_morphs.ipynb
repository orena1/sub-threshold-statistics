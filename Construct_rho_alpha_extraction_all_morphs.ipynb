{
 "cells": [
  {
   "cell_type": "code",
   "execution_count": 4,
   "metadata": {
    "ExecuteTime": {
     "end_time": "2022-07-04T00:20:39.136134Z",
     "start_time": "2022-07-04T00:20:39.107938Z"
    }
   },
   "outputs": [
    {
     "data": {
      "text/html": [
       "<style>.container { width:100% !important; }</style>"
      ],
      "text/plain": [
       "<IPython.core.display.HTML object>"
      ]
     },
     "metadata": {},
     "output_type": "display_data"
    },
    {
     "name": "stdout",
     "output_type": "stream",
     "text": [
      "Using matplotlib backend: Qt5Agg\n",
      "Populating the interactive namespace from numpy and matplotlib\n"
     ]
    }
   ],
   "source": [
    "# 11.9 22:17\n",
    "from neuron import gui,h\n",
    "import pandas as pd\n",
    "import seaborn as sns\n",
    "import pandas as pd\n",
    "from tqdm.auto import tqdm\n",
    "from IPython.core.display import display, HTML\n",
    "import os\n",
    "h.load_file(\"nrngui.hoc\")\n",
    "h.load_file(\"import3d.hoc\")\n",
    "display(HTML(\"<style>.container { width:100% !important; }</style>\"))\n",
    "\n",
    "%pylab\n",
    "%matplotlib inline\n",
    "cells = {'JM072303':{'Rm':1000},'Hay_2011_passive':{'Rm':15000}, 'NMO_130658':{'Rm':3000}, 'NMO_161366':{'Rm':3500}}\n",
    "\n",
    "cell_name = 'NMO_161366' # decide which cell to process\n",
    "#NMO_161366  - pyramidal - http://neuromorpho.org/neuron_info.jsp?neuron_name=20180102_sample_1 - https://www.nature.com/articles/s41586-020-2907-3\n",
    "#NMO_130658 - basket - http://neuromorpho.org/neuron_info.jsp?neuron_name=2017-16-05-slice-1-cell-6-rotated -  https://pubmed.ncbi.nlm.nih.gov/31519874/\n",
    "#JM072303 - spiny - http://neuromorpho.org/neuron_info.jsp?neuron_name=JM072303 - https://pubmed.ncbi.nlm.nih.gov/16337918/\n",
    "\n",
    "\n",
    "syn_conds = [0.001] # synaptic conductance to use\n",
    "nstim_start = 40\n",
    "cur_amp = 0.1 # nA\n",
    "\n",
    "\n",
    "def create_cell():\n",
    "    \n",
    "    h.load_file(\"models/Hay_2011_passive/L5PCtemplate.hoc\")\n",
    "    h.load_file(\"models/Hay_2011_passive/L5PCtemplate_swc.hoc\")\n",
    "    \n",
    "    if cell_name == 'Hay_2011_passive':\n",
    "        cell = h.L5PCtemplate('models/Hay_2011_passive/cell1.asc')\n",
    "    elif cell_name == 'JM072303':\n",
    "        cell = h.L5PCtemplate('models/JM072303/JM072303.asc')\n",
    "    elif cell_name =='NMO_130658':\n",
    "        cell = h.L5PCtemplateswc('models/NMO_130658/2017-13-02-slice-2-cell-3-rotated.SWC')\n",
    "    elif cell_name =='NMO_161366':\n",
    "        cell = h.L5PCtemplateswc('models/NMO_161366/20180102_sample_1.SWC')\n",
    "    h.area(0.5,sec=cell.soma[0]) # make sure diam reflects 3d points\n",
    "\n",
    "    \n",
    "    soma = cell.soma[0]\n",
    "    for sec in h.allsec():\n",
    "        sec.insert(\"pas\")\n",
    "        sec.g_pas = 1/cells[cell_name]['Rm']\n",
    "        sec.cm =1 \n",
    "        sec.Ra = 100\n",
    "    \n",
    "    h(\"freq = 100\")#      // Hz, frequency at which AC length constant will be computedf\n",
    "    h(\"d_lambda = 0.1\")\n",
    "    h(\"forall { nseg = int((L/(d_lambda*lambda_f(freq))+0.9)/2)*2 + 1  }\")\n",
    "\n",
    "    vvec = h.Vector().record(soma(0.5)._ref_v)\n",
    "    tvec = h.Vector().record(h._ref_t)\n",
    "\n",
    "    iclamp = h.IClamp(soma(0.5))\n",
    "    seclamp = h.SEClamp(soma(0.5))\n",
    "    seclamp_current = h.Vector().record(seclamp._ref_i)\n",
    "\n",
    "    h.v_init = soma.e_pas\n",
    "\n",
    "\n",
    "    #check cell input resistance\n",
    "\n",
    "    imp = h.Impedance()\n",
    "    imp.loc(0.5,sec=soma)\n",
    "    imp.compute(0,1)\n",
    "    Rin = imp.input(0.5,sec=soma)\n",
    "    return cell, vvec, tvec, iclamp, seclamp, Rin\n",
    "\n",
    "\n",
    "def create_synapse(seg, e):\n",
    "    nstim = h.NetStim()\n",
    "    # set other variables\n",
    "    nstim.number = 1\n",
    "    nstim.noise = 0\n",
    "    nstim.start = nstim_start\n",
    "\n",
    "    \n",
    "    dend_syn = h.Exp2Syn(seg)\n",
    "    dend_syn.tau1=0.0001#0.3\n",
    "    dend_syn.tau2=9e9#10\n",
    "    dend_syn.e = e\n",
    "    \n",
    "    dend_ncon = h.NetCon(nstim,dend_syn)\n",
    "    dend_ncon.weight[0] = 0\n",
    "    \n",
    "    return nstim, dend_syn, dend_ncon\n",
    "\n",
    "\n",
    "\n",
    "\n",
    "\n",
    "def get_cell_specs():\n",
    "    cell, vvec, tvec, iclamp, seclamp, Rin = create_cell()\n",
    "    all_segs = []\n",
    "    for sec in h.allsec():\n",
    "        for seg in sec:\n",
    "            all_segs.append(seg)\n",
    "    return Rin, len(all_segs), cell.soma[0].e_pas, cell, vvec, tvec, iclamp, seclamp, Rin\n",
    "\n",
    "    \n",
    "def calc_syn_effects(x):\n",
    "    '''\n",
    "    x - list of inds for segs to calculate\n",
    "    '''\n",
    "    st = x[0] # do seg from st to en\n",
    "    en = x[1]\n",
    "    cell, vvec, tvec, iclamp, seclamp, Rin = create_cell()\n",
    "\n",
    "\n",
    "    h.tstop = nstim_start+100 + 300\n",
    "    iclamp.delay  = nstim_start+200\n",
    "    iclamp.dur = h.tstop + 10\n",
    "    \n",
    "    iclamp.amp = cur_amp #nA\n",
    "\n",
    "\n",
    "    h.dt=0.2\n",
    "    h.steps_per_ms = 1/h.dt\n",
    "\n",
    "\n",
    "    to_save = {'syn_dv':[], 'iclamp_dv':[], 'seg_dist':[],'seg_length':[],'voltage':[],'synapse_reversal':[],'seg_name':[],'syn_g':[]}\n",
    "    #syn_dv - dV of synapse\n",
    "    #iclamp_dv - dV of iclamp, start after synapses\n",
    "    #syn_g - nanoS\n",
    "\n",
    "    all_segs = []\n",
    "    for sec in h.allsec():\n",
    "        for seg in sec:\n",
    "            all_segs.append(seg)\n",
    "    \n",
    "    if st>len(all_segs):\n",
    "        return []\n",
    "    \n",
    "    all_segs = all_segs[st:en]\n",
    "    \n",
    "    for seg in all_segs:\n",
    "        for syn_cond in syn_conds:\n",
    "            for syn_e in [0,-80]:\n",
    "                nstim, dend_syn, dend_ncon  = create_synapse(seg, syn_e)\n",
    "                dend_ncon.weight[0] =syn_cond\n",
    "\n",
    "                syn_g = dend_ncon.weight[0]*10**3 #from micro to nano\n",
    "\n",
    "                h.run()\n",
    "                #plot(tvec,vvec)\n",
    "                iclamp_dv = vvec[-1]-vvec[int((iclamp.delay-10)/h.dt)]\n",
    "                syn_dv  = vvec[int((iclamp.delay-10)/h.dt)]-vvec[10]\n",
    "\n",
    "                to_save['syn_dv'].append(syn_dv)\n",
    "                to_save['iclamp_dv'].append(iclamp_dv)\n",
    "                to_save['seg_dist'].append(h.distance(cell.soma[0](0.5),seg))\n",
    "                to_save['seg_length'].append(seg.sec.L/seg.sec.nseg)\n",
    "                to_save['synapse_reversal'].append(syn_e)\n",
    "                to_save['voltage'].append(list(vvec))\n",
    "                to_save['syn_g'].append(syn_g)\n",
    "                to_save['seg_name'].append(str(seg))\n",
    "                nstim.number = 0\n",
    "                dend_ncon.weight[0] = 0\n",
    "                del nstim,dend_ncon,dend_syn\n",
    "\n",
    "    return to_save"
   ]
  },
  {
   "cell_type": "markdown",
   "metadata": {},
   "source": [
    "# Calc voltage deflaction per synapse"
   ]
  },
  {
   "cell_type": "code",
   "execution_count": 6,
   "metadata": {
    "ExecuteTime": {
     "end_time": "2022-07-04T00:21:30.759067Z",
     "start_time": "2022-07-04T00:20:41.143212Z"
    }
   },
   "outputs": [
    {
     "name": "stdout",
     "output_type": "stream",
     "text": [
      "if number of segments is larger than 3000, this will be a probalem\n"
     ]
    },
    {
     "data": {
      "application/vnd.jupyter.widget-view+json": {
       "model_id": "7bd2d36cbbb24aa784874d5ea14fbc47",
       "version_major": 2,
       "version_minor": 0
      },
      "text/plain": [
       "  0%|          | 0/250 [00:00<?, ?it/s]"
      ]
     },
     "metadata": {},
     "output_type": "display_data"
    }
   ],
   "source": [
    "## test\n",
    "# data = calc_syn_effects([10,20])\n",
    "# pd.DataFrame(data)\n",
    " \n",
    "    \n",
    "chunk_size = 10\n",
    "max_send = 2500\n",
    "to_send =[[i*10,(i+1)*10] for i in range(300) if i*10<max_send]\n",
    "print(\"if number of segments is larger than 3000, this will be a probalem\")\n",
    "\n",
    "from multiprocessing import Pool\n",
    "\n",
    "outputs = []\n",
    "pbar= tqdm(total=len(to_send))\n",
    "with Pool(processes=5) as pool:\n",
    "    for out in pool.imap_unordered(calc_syn_effects,to_send):\n",
    "        pbar.update(1)\n",
    "        if len(out)>0:\n",
    "            outputs.append(out)\n",
    "\n",
    "#merge output\n",
    "full_dict = {k:[] for k in outputs[0]}\n",
    "for out in outputs:\n",
    "    for k in out:\n",
    "        full_dict[k].extend(out[k])\n",
    "df = pd.DataFrame(full_dict)"
   ]
  },
  {
   "cell_type": "code",
   "execution_count": 10,
   "metadata": {
    "ExecuteTime": {
     "end_time": "2022-07-04T00:28:17.749755Z",
     "start_time": "2022-07-04T00:28:17.337278Z"
    }
   },
   "outputs": [
    {
     "name": "stdout",
     "output_type": "stream",
     "text": [
      "62.23537626767067\n"
     ]
    }
   ],
   "source": [
    "Rin, segs_num, e_pas, cell, vvec, tvec, iclamp, seclamp, Rin = get_cell_specs()\n",
    "print(Rin)"
   ]
  },
  {
   "cell_type": "markdown",
   "metadata": {},
   "source": [
    "# Calc Rho and Alpha"
   ]
  },
  {
   "cell_type": "code",
   "execution_count": 54,
   "metadata": {
    "ExecuteTime": {
     "end_time": "2022-07-04T00:39:38.629998Z",
     "start_time": "2022-07-04T00:39:37.570779Z"
    }
   },
   "outputs": [],
   "source": [
    "\n",
    "df['g_eff'] = None\n",
    "df['alpha'] = None\n",
    "df['rho'] = None\n",
    "df['alpharho'] = None\n",
    "\n",
    "plotting = False\n",
    "_,axes = subplots(ncols=4, sharex=True,figsize=(10,3)) if plotting else _,None\n",
    "for jj,row in df.iterrows():\n",
    "    \n",
    "    g_eff = 1/(row['iclamp_dv']/cur_amp)*10**3 #mv/nA ?=uS --*10**3--> nS ?\n",
    "    df.loc[row.name,'g_eff'] = g_eff\n",
    "    \n",
    "    if plotting:\n",
    "        \n",
    "        sca(axes[0])\n",
    "        plot(row['syn_g'],g_eff,'-o')\n",
    "        xlabel('gs (nS)')\n",
    "        ylabel('g_eff (nS)')\n",
    "       \n",
    "\n",
    "    ## calc ar ###\n",
    "    ##############\n",
    "    gl_S = 1/Rin*10**-6 # uS -> S\n",
    "    cur_amp_A = cur_amp*10**-9 # nA\n",
    "    dvs_V = row['iclamp_dv']*10**-3 # mV ->V\n",
    "    g_syns_S = row['syn_g']*10**-9 #  nS ->S    \n",
    "    ar = ((cur_amp_A/dvs_V)-gl_S)/g_syns_S\n",
    "    df.loc[row.name,'alpharho'] = ar\n",
    "    \n",
    "    if plotting:\n",
    "        sca(axes[1])\n",
    "        plot(row['syn_g'],ar ,'-o')\n",
    "        xlabel('gs (nS)')\n",
    "        ylabel(r'$\\alpha \\rho$')\n",
    "\n",
    "\n",
    "\n",
    "\n",
    "    ## calc alpha ##\n",
    "    ################\n",
    "    dvs_fromsyn_V = row['syn_dv']*10**-3 # mV ->V\n",
    "    g_eff_S = g_eff*10**-9\n",
    "    V_diff = (e_pas-row['synapse_reversal'])*10**-3 #mV ->V\n",
    "    g_syns_S\n",
    "    a = -1*(dvs_fromsyn_V*g_eff_S)/(V_diff*g_syns_S)\n",
    "    df.loc[row.name,'alpha'] = a\n",
    "    \n",
    "    if plotting:\n",
    "        sca(axes[2])\n",
    "        tm = ar/a\n",
    "        plot(row['syn_g'],a ,'-o')\n",
    "        xlabel('gs (nS)')\n",
    "        ylabel(r'$\\alpha$')\n",
    "        tight_layout()\n",
    "        #ylim(min(list(tm) + list(a))-0.01,max(list(tm) + list(a))+0.01) \n",
    "    ## calc rho   ##\n",
    "    ################\n",
    "    df.loc[row.name,'rho'] = ar/a\n",
    "    if plotting:\n",
    "        sca(axes[3])\n",
    "        plot(row['syn_g'],ar/a ,'-o')\n",
    "        xlabel('gs (nS)')\n",
    "        ylabel(r'$\\rho$')\n",
    "        #ylim(min(list(tm) + list(a))-0.01,max(list(tm) + list(a))+0.01) \n",
    "        tight_layout()\n",
    "        #suptitle(f'dist from soma = {row[\"seg_x\"].iloc[0]:9.5} um | loc = {row[\"seg_obj\"].iloc[0]}')\n",
    "        tight_layout(rect=[0, 0.03, 1, 0.95])\n",
    "        \n",
    "    if jj>4:\n",
    "        plotting = False"
   ]
  },
  {
   "cell_type": "markdown",
   "metadata": {
    "ExecuteTime": {
     "end_time": "2022-07-04T00:28:02.392310Z",
     "start_time": "2022-07-04T00:28:02.389015Z"
    }
   },
   "source": [
    "# plots"
   ]
  },
  {
   "cell_type": "code",
   "execution_count": 55,
   "metadata": {
    "ExecuteTime": {
     "end_time": "2022-07-04T00:39:40.514908Z",
     "start_time": "2022-07-04T00:39:39.916853Z"
    }
   },
   "outputs": [
    {
     "data": {
      "text/plain": [
       "Text(0.5, 0.98, 'NMO_161366')"
      ]
     },
     "execution_count": 55,
     "metadata": {},
     "output_type": "execute_result"
    },
    {
     "data": {
      "image/png": "[encoded data removed]",
      "text/plain": [
       "<Figure size 1152x288 with 2 Axes>"
      ]
     },
     "metadata": {
      "needs_background": "light"
     },
     "output_type": "display_data"
    }
   ],
   "source": [
    "df_ex = df.query('synapse_reversal==0')\n",
    "fig, axs = subplots(1,2,figsize=(16,4),sharex=True,sharey=True)\n",
    "plt.sca(axs[0])\n",
    "plt.scatter(df_ex.seg_dist,df_ex.alpha,s=3)\n",
    "plt.ylabel(r'Attenuation ($\\alpha$)',fontsize=12)\n",
    "plt.xlabel('Distance from soma (um)',fontsize=12)\n",
    "plt.sca(axs[1])\n",
    "plt.scatter(df_ex.seg_dist,df_ex.alpharho,s=3)\n",
    "plt.ylabel(r'Visability ($\\Gamma$)',fontsize=12)\n",
    "plt.xlabel('Distance from soma (um)',fontsize=12)\n",
    "plt.yscale('log')\n",
    "plt.xlim(0.00001,plt.xlim()[1])\n",
    "plt.suptitle(cell_name)"
   ]
  }
 ],
 "metadata": {
  "kernelspec": {
   "display_name": "Python 3",
   "language": "python",
   "name": "python3"
  },
  "language_info": {
   "codemirror_mode": {
    "name": "ipython",
    "version": 3
   },
   "file_extension": ".py",
   "mimetype": "text/x-python",
   "name": "python",
   "nbconvert_exporter": "python",
   "pygments_lexer": "ipython3",
   "version": "3.7.7"
  },
  "toc": {
   "base_numbering": 1,
   "nav_menu": {},
   "number_sections": true,
   "sideBar": true,
   "skip_h1_title": false,
   "title_cell": "Table of Contents",
   "title_sidebar": "Contents",
   "toc_cell": false,
   "toc_position": {},
   "toc_section_display": true,
   "toc_window_display": false
  }
 },
 "nbformat": 4,
 "nbformat_minor": 4
}
